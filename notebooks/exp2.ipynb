{
 "cells": [
  {
   "cell_type": "code",
   "execution_count": 1,
   "id": "10d68e58-93b6-42b4-972e-6430d931e78c",
   "metadata": {},
   "outputs": [],
   "source": [
    "import sys\n",
    "sys.path.append(\"..\")"
   ]
  },
  {
   "cell_type": "code",
   "execution_count": 2,
   "id": "8522879b-31c9-4a2e-b928-0589008c81a4",
   "metadata": {},
   "outputs": [],
   "source": [
    "%load_ext autoreload\n",
    "%autoreload 2"
   ]
  },
  {
   "cell_type": "code",
   "execution_count": 1,
   "id": "6440aa93-6036-47dd-8cea-97401a2f5bdc",
   "metadata": {},
   "outputs": [],
   "source": [
    "# from similarity_functions import *\n",
    "import os\n",
    "import dotenv\n",
    "from sklearn.metrics.pairwise import cosine_similarity\n",
    "import librosa\n",
    "import numpy\n"
   ]
  },
  {
   "cell_type": "code",
   "execution_count": 23,
   "id": "a48fe3f7-ec90-4c58-831c-2835e868eb4e",
   "metadata": {},
   "outputs": [
    {
     "data": {
      "text/plain": [
       "'0.10.0.post2'"
      ]
     },
     "execution_count": 23,
     "metadata": {},
     "output_type": "execute_result"
    }
   ],
   "source": [
    "librosa.__version__"
   ]
  },
  {
   "cell_type": "code",
   "execution_count": 24,
   "id": "7834302c-938c-4d9a-90a4-3f90fdd145c7",
   "metadata": {},
   "outputs": [
    {
     "name": "stdout",
     "output_type": "stream",
     "text": [
      "Python 3.10.10\n"
     ]
    }
   ],
   "source": [
    "!python --version"
   ]
  },
  {
   "cell_type": "code",
   "execution_count": 25,
   "id": "15e48292-bb29-4c9c-ad60-742a88573548",
   "metadata": {},
   "outputs": [
    {
     "data": {
      "text/plain": [
       "'1.24.4'"
      ]
     },
     "execution_count": 25,
     "metadata": {},
     "output_type": "execute_result"
    }
   ],
   "source": [
    "numpy.__version__"
   ]
  },
  {
   "cell_type": "code",
   "execution_count": 26,
   "id": "a75ea85e-cd63-4cd1-999d-9096460fc830",
   "metadata": {},
   "outputs": [
    {
     "data": {
      "text/plain": [
       "'./data/fma_small/'"
      ]
     },
     "execution_count": 26,
     "metadata": {},
     "output_type": "execute_result"
    }
   ],
   "source": [
    "# Load the environment from the .env file.\n",
    "dotenv.load_dotenv(dotenv.find_dotenv())\n",
    "\n",
    "# Directory where mp3 are stored.\n",
    "AUDIO_DIR = os.environ.get('AUDIO_DIR')\n",
    "AUDIO_DIR"
   ]
  },
  {
   "cell_type": "code",
   "execution_count": 27,
   "id": "ae00befe-f26d-40d0-9446-ce8e39841447",
   "metadata": {},
   "outputs": [
    {
     "name": "stdout",
     "output_type": "stream",
     "text": [
      "librosa                       0.8.1\n"
     ]
    }
   ],
   "source": [
    "!pip list | grep librosa"
   ]
  },
  {
   "cell_type": "code",
   "execution_count": 28,
   "id": "69689308-ec59-4e32-8dab-9e578f1d304b",
   "metadata": {},
   "outputs": [
    {
     "name": "stdout",
     "output_type": "stream",
     "text": [
      "numpy                         1.24.3\n"
     ]
    }
   ],
   "source": [
    "!pip list | grep numpy"
   ]
  },
  {
   "cell_type": "code",
   "execution_count": null,
   "id": "a39d123a-c11c-4d54-9f69-8d0645495c77",
   "metadata": {},
   "outputs": [],
   "source": []
  },
  {
   "cell_type": "markdown",
   "id": "80086852-f4a6-4f76-a6ef-d7e9f93e9761",
   "metadata": {},
   "source": [
    "# Similarity Functions"
   ]
  },
  {
   "cell_type": "code",
   "execution_count": 29,
   "id": "af396a84-2163-4ae8-8951-7a9442912eb9",
   "metadata": {},
   "outputs": [
    {
     "name": "stdout",
     "output_type": "stream",
     "text": [
      "files are:  ../data/fma_small/000/000002.mp3  and  ../data/fma_small/000/000255.mp3\n"
     ]
    },
    {
     "data": {
      "text/plain": [
       "(0.021866493, 0.021866493)"
      ]
     },
     "execution_count": 29,
     "metadata": {},
     "output_type": "execute_result"
    }
   ],
   "source": [
    "track_id1 = \"002\"\n",
    "track_id2 = \"255\"\n",
    "filename1 = os.path.join('.'+ AUDIO_DIR, \"000\", \"000\" + track_id1 + '.mp3')\n",
    "filename2 =  os.path.join('.'+ AUDIO_DIR, \"000\", \"000\" + track_id2 + '.mp3')\n",
    "print('files are: ', filename1,' and ', filename2)\n",
    "\n",
    "audio1, sr1 = load_and_convert_to_mono(filename1)\n",
    "audio2, sr2 = load_and_convert_to_mono(filename2)\n",
    "assert sr2==sr2\n",
    "\n",
    "get_resampling_similarity_from_frame(audio1, audio2), get_resampling_similarity_from_track_id(track_id1, track_id2)"
   ]
  },
  {
   "cell_type": "code",
   "execution_count": 30,
   "id": "a8e9b18e-c637-4e34-a929-afb92b555dd7",
   "metadata": {},
   "outputs": [
    {
     "name": "stdout",
     "output_type": "stream",
     "text": [
      "files are:  ../data/fma_small/000/000002.mp3  and  ../data/fma_small/000/000005.mp3\n"
     ]
    },
    {
     "data": {
      "text/plain": [
       "(0.01560968, 0.01560968, 0.01560968)"
      ]
     },
     "execution_count": 30,
     "metadata": {},
     "output_type": "execute_result"
    }
   ],
   "source": [
    "track_id1 = \"002\"\n",
    "track_id2 = \"005\"\n",
    "filename1 = os.path.join('.'+ AUDIO_DIR, \"000\", \"000\" + track_id1 + '.mp3')\n",
    "filename2 =  os.path.join('.'+ AUDIO_DIR, \"000\", \"000\" + track_id2 + '.mp3')\n",
    "print('files are: ', filename1,' and ', filename2)\n",
    "\n",
    "audio1, sr1 = load_and_convert_to_mono(filename1)\n",
    "audio2, sr2 = load_and_convert_to_mono(filename2)\n",
    "assert sr2==sr2\n",
    "\n",
    "get_resampling_similarity_from_frame(audio1, audio2),  get_resampling_similarity_from_track_id(track_id1, track_id2), get_resampling_similarity_from_track_id(track_id1, track_id2)"
   ]
  },
  {
   "cell_type": "code",
   "execution_count": null,
   "id": "809e20e1-d6a7-45cd-a56b-7c6c6baf6681",
   "metadata": {},
   "outputs": [],
   "source": []
  },
  {
   "cell_type": "code",
   "execution_count": 31,
   "id": "8515b048-0416-4d63-9ba0-493da952906b",
   "metadata": {},
   "outputs": [
    {
     "data": {
      "text/plain": [
       "(0.18930985, 0.0668598)"
      ]
     },
     "execution_count": 31,
     "metadata": {},
     "output_type": "execute_result"
    }
   ],
   "source": [
    "get_similarity_within_same_song_by_resampling(track_id1), get_similarity_within_same_song_by_resampling(track_id2)"
   ]
  },
  {
   "cell_type": "markdown",
   "id": "8284d7e8-7e7b-4f73-bb36-e7112a86e8b2",
   "metadata": {},
   "source": [
    "# Features"
   ]
  },
  {
   "cell_type": "code",
   "execution_count": 36,
   "id": "c662433a-0374-4c60-9316-679179c3a1d5",
   "metadata": {},
   "outputs": [],
   "source": [
    "from features import *\n",
    "from utils import *\n",
    "import pandas as pd"
   ]
  },
  {
   "cell_type": "code",
   "execution_count": 37,
   "id": "204b7166-076c-45c8-ac2c-644065802776",
   "metadata": {},
   "outputs": [
    {
     "data": {
      "text/plain": [
       "MultiIndex([('chroma_cens', 'kurtosis', '01'),\n",
       "            ('chroma_cens', 'kurtosis', '02'),\n",
       "            ('chroma_cens', 'kurtosis', '03'),\n",
       "            ('chroma_cens', 'kurtosis', '04'),\n",
       "            ('chroma_cens', 'kurtosis', '05'),\n",
       "            ('chroma_cens', 'kurtosis', '06'),\n",
       "            ('chroma_cens', 'kurtosis', '07'),\n",
       "            ('chroma_cens', 'kurtosis', '08'),\n",
       "            ('chroma_cens', 'kurtosis', '09'),\n",
       "            ('chroma_cens', 'kurtosis', '10'),\n",
       "            ...\n",
       "            (    'tonnetz',      'std', '04'),\n",
       "            (    'tonnetz',      'std', '05'),\n",
       "            (    'tonnetz',      'std', '06'),\n",
       "            (        'zcr', 'kurtosis', '01'),\n",
       "            (        'zcr',      'max', '01'),\n",
       "            (        'zcr',     'mean', '01'),\n",
       "            (        'zcr',   'median', '01'),\n",
       "            (        'zcr',      'min', '01'),\n",
       "            (        'zcr',     'skew', '01'),\n",
       "            (        'zcr',      'std', '01')],\n",
       "           names=['feature', 'statistics', 'number'], length=518)"
      ]
     },
     "execution_count": 37,
     "metadata": {},
     "output_type": "execute_result"
    }
   ],
   "source": [
    "feature_sizes = dict(chroma_stft=12, chroma_cqt=12, chroma_cens=12,\n",
    "                     tonnetz=6, mfcc=20, rms=1, zcr=1,\n",
    "                     spectral_centroid=1, spectral_bandwidth=1,\n",
    "                     spectral_contrast=7, spectral_rolloff=1)\n",
    "moments = ('mean', 'std', 'skew', 'kurtosis', 'median', 'min', 'max')\n",
    "\n",
    "columns = []\n",
    "for name, size in feature_sizes.items():\n",
    "    for moment in moments:\n",
    "        it = ((name, moment, '{:02d}'.format(i+1)) for i in range(size))\n",
    "        columns.extend(it)\n",
    "\n",
    "names = ('feature', 'statistics', 'number')\n",
    "columns = pd.MultiIndex.from_tuples(columns, names=names)\n",
    "\n",
    "# More efficient to slice if indexes are sorted.\n",
    "columns.sort_values()"
   ]
  },
  {
   "cell_type": "code",
   "execution_count": 38,
   "id": "0a77f453-f18a-407f-9a05-7baa750bc727",
   "metadata": {},
   "outputs": [
    {
     "name": "stdout",
     "output_type": "stream",
     "text": [
      "start\n",
      "filepath =  ../data/fma_small/000/000002.mp3\n"
     ]
    }
   ],
   "source": [
    "tid = \"002\"\n",
    "out = compute_features(tid)"
   ]
  },
  {
   "cell_type": "code",
   "execution_count": 39,
   "id": "f88145c6-711a-4030-9c29-08ed381ca9de",
   "metadata": {},
   "outputs": [
    {
     "data": {
      "text/plain": [
       "feature      statistics  number\n",
       "chroma_cens  kurtosis    01       -0.217359\n",
       "                         02       -0.726509\n",
       "                         03       -0.491446\n",
       "                         04       -0.721771\n",
       "                         05       -0.545604\n",
       "                                     ...   \n",
       "zcr          mean        01        0.098364\n",
       "             median      01        0.078613\n",
       "             min         01        0.006348\n",
       "             skew        01        1.825834\n",
       "             std         01        0.068405\n",
       "Name: 002, Length: 518, dtype: float64"
      ]
     },
     "execution_count": 39,
     "metadata": {},
     "output_type": "execute_result"
    }
   ],
   "source": [
    "out"
   ]
  },
  {
   "cell_type": "code",
   "execution_count": 40,
   "id": "79aa9ab1-cbb0-4741-a5a7-4265a2c3dc70",
   "metadata": {},
   "outputs": [
    {
     "data": {
      "text/plain": [
       "pandas.core.series.Series"
      ]
     },
     "execution_count": 40,
     "metadata": {},
     "output_type": "execute_result"
    }
   ],
   "source": [
    "type(out)"
   ]
  },
  {
   "cell_type": "code",
   "execution_count": 41,
   "id": "c9fcb98a-70fd-4fa2-bb5d-6286b2516b88",
   "metadata": {},
   "outputs": [
    {
     "data": {
      "text/plain": [
       "array([-0.21735859, -0.72650862, -0.49144626, -0.72177076, -0.54560375,\n",
       "        0.90352058,  0.78698349,  0.91715646, -0.79314399,  0.45264697])"
      ]
     },
     "execution_count": 41,
     "metadata": {},
     "output_type": "execute_result"
    }
   ],
   "source": [
    "out.values[:10]"
   ]
  },
  {
   "cell_type": "code",
   "execution_count": 42,
   "id": "edfd6f7d-b6e1-4e7a-b0cd-e85f1ac2425a",
   "metadata": {},
   "outputs": [
    {
     "data": {
      "text/plain": [
       "MultiIndex([('chroma_cens', 'kurtosis', '01'),\n",
       "            ('chroma_cens', 'kurtosis', '02'),\n",
       "            ('chroma_cens', 'kurtosis', '03'),\n",
       "            ('chroma_cens', 'kurtosis', '04'),\n",
       "            ('chroma_cens', 'kurtosis', '05'),\n",
       "            ('chroma_cens', 'kurtosis', '06'),\n",
       "            ('chroma_cens', 'kurtosis', '07'),\n",
       "            ('chroma_cens', 'kurtosis', '08'),\n",
       "            ('chroma_cens', 'kurtosis', '09'),\n",
       "            ('chroma_cens', 'kurtosis', '10'),\n",
       "            ...\n",
       "            (    'tonnetz',      'std', '04'),\n",
       "            (    'tonnetz',      'std', '05'),\n",
       "            (    'tonnetz',      'std', '06'),\n",
       "            (        'zcr', 'kurtosis', '01'),\n",
       "            (        'zcr',      'max', '01'),\n",
       "            (        'zcr',     'mean', '01'),\n",
       "            (        'zcr',   'median', '01'),\n",
       "            (        'zcr',      'min', '01'),\n",
       "            (        'zcr',     'skew', '01'),\n",
       "            (        'zcr',      'std', '01')],\n",
       "           names=['feature', 'statistics', 'number'], length=518)"
      ]
     },
     "execution_count": 42,
     "metadata": {},
     "output_type": "execute_result"
    }
   ],
   "source": [
    "out.index"
   ]
  },
  {
   "cell_type": "markdown",
   "id": "96df85a4-2c48-4fe1-90aa-6644056676fd",
   "metadata": {},
   "source": [
    "## zero-crossing rate"
   ]
  },
  {
   "cell_type": "code",
   "execution_count": 43,
   "id": "1d615d2b-4f17-44d6-bbb2-7ae6f2481922",
   "metadata": {},
   "outputs": [],
   "source": [
    "def load_and_convert_to_mono_from_track_id(track_id: str) -> tuple:\n",
    "\n",
    "    filename = os.path.join('.'+ AUDIO_DIR, \"000\", \"000\" + track_id + '.mp3')\n",
    "\n",
    "    audio, sr = load_and_convert_to_mono(filename)\n",
    "\n",
    "    return audio, sr\n",
    "\n",
    "\n",
    "def resample_feature(feature: np.ndarray, target_length: int) -> np.ndarray:\n",
    "    \"\"\"\n",
    "    Resamples a feature to a target length using linear interpolation.\n",
    "\n",
    "    Parameters:\n",
    "        feature (numpy array): Input feature to resample.\n",
    "        target_length (int): Target length for resampling.\n",
    "\n",
    "    Returns:\n",
    "        resampled_feature (numpy array): Resampled feature.\n",
    "    \"\"\"\n",
    "    return librosa.resample(feature, len(feature), target_length)"
   ]
  },
  {
   "cell_type": "code",
   "execution_count": 44,
   "id": "3d5c74ab-3b01-4c78-ba1d-bcd05d339e95",
   "metadata": {},
   "outputs": [],
   "source": [
    "def get_zero_crossing_rate_feature_from_track_id(track_id: str) -> float:\n",
    "\n",
    "    \"\"\"\n",
    "    Computes the zero-crossing rate feature of an audio file.\n",
    "\n",
    "    Parameters:\n",
    "        audio_file (str): Path to the audio file.\n",
    "\n",
    "    Returns:\n",
    "        zero_crossing_rate (numpy array): Zero-crossing rate feature.\n",
    "    \"\"\"\n",
    "\n",
    "    audio, sr = load_and_convert_to_mono_from_track_id(track_id)\n",
    "    zero_crossing_rate = librosa.feature.zero_crossing_rate(audio)\n",
    "\n",
    "    return zero_crossing_rate[0]"
   ]
  },
  {
   "cell_type": "code",
   "execution_count": 45,
   "id": "db6f83c5-ed1d-47b7-9786-229d3694e39d",
   "metadata": {},
   "outputs": [
    {
     "data": {
      "text/plain": [
       "((2582,), (2585,))"
      ]
     },
     "execution_count": 45,
     "metadata": {},
     "output_type": "execute_result"
    }
   ],
   "source": [
    "tid1 = \"002\"\n",
    "tid2 = \"005\"\n",
    "res1 = get_zero_crossing_rate_feature_from_track_id(tid1)\n",
    "res2 = get_zero_crossing_rate_feature_from_track_id(tid2)\n",
    "res1.shape, res2.shape"
   ]
  },
  {
   "cell_type": "code",
   "execution_count": 46,
   "id": "f12b0356-3017-4a8a-a22f-379efbcf1f4d",
   "metadata": {},
   "outputs": [],
   "source": [
    "def compute_zero_crossing_rate(audio_file: str) -> np.ndarray:\n",
    "    \"\"\"\n",
    "    Computes the zero-crossing rate feature of an audio file.\n",
    "\n",
    "    Parameters:\n",
    "        audio_file (str): Path to the audio file.\n",
    "\n",
    "    Returns:\n",
    "        zero_crossing_rate (numpy array): Zero-crossing rate feature.\n",
    "    \"\"\"\n",
    "    y, sr = librosa.load(audio_file)\n",
    "    zero_crossing_rate = librosa.feature.zero_crossing_rate(y)[0]\n",
    "    return zero_crossing_rate\n",
    "\n",
    "\n",
    "def compute_zero_crossing_rate_from_track_id(tid: str) -> np.ndarray:\n",
    "    \"\"\"\n",
    "    Computes the zero-crossing rate feature of an audio file.\n",
    "\n",
    "    Parameters:\n",
    "        audio_file (str): Path to the audio file.\n",
    "\n",
    "    Returns:\n",
    "        zero_crossing_rate (numpy array): Zero-crossing rate feature.\n",
    "    \"\"\"\n",
    "\n",
    "    audio, sr = load_and_convert_to_mono_from_track_id(tid)\n",
    "    zero_crossing_rate = librosa.feature.zero_crossing_rate(audio)[0]\n",
    "    return zero_crossing_rate\n",
    "\n",
    "def resample_feature(feature: np.ndarray, target_length: int) -> np.ndarray:\n",
    "    \"\"\"\n",
    "    Resamples a feature to a target length using linear interpolation.\n",
    "\n",
    "    Parameters:\n",
    "        feature (numpy array): Input feature to resample.\n",
    "        target_length (int): Target length for resampling.\n",
    "\n",
    "    Returns:\n",
    "        resampled_feature (numpy array): Resampled feature.\n",
    "    \"\"\"\n",
    "    return librosa.resample(feature, len(feature), target_length)\n",
    "\n",
    "def normalize_feature(feature: np.ndarray) -> np.ndarray:\n",
    "    \"\"\"\n",
    "    Normalizes a feature to have zero mean and unit variance.\n",
    "\n",
    "    Parameters:\n",
    "        feature (numpy array): Input feature to normalize.\n",
    "\n",
    "    Returns:\n",
    "        normalized_feature (numpy array): Normalized feature.\n",
    "    \"\"\"\n",
    "    return (feature - np.mean(feature)) / np.std(feature)\n",
    "\n",
    "def calculate_similarity(feature1: np.ndarray, feature2: np.ndarray, Euclidean=True) -> float:\n",
    "    \"\"\"\n",
    "    Calculates the similarity score between two features.\n",
    "\n",
    "    Parameters:\n",
    "        feature1 (numpy array): First input feature.\n",
    "        feature2 (numpy array): Second input feature.\n",
    "\n",
    "    Returns:\n",
    "        similarity_score (float): Similarity score between the two features.\n",
    "    \"\"\"\n",
    "    # Resample features to a common length\n",
    "    target_length = max(len(feature1), len(feature2))\n",
    "    feature1_resampled = resample_feature(feature1, target_length)\n",
    "    feature2_resampled = resample_feature(feature2, target_length)\n",
    "\n",
    "    # Normalize the resampled features\n",
    "    feature1_normalized = normalize_feature(feature1_resampled)\n",
    "    feature2_normalized = normalize_feature(feature2_resampled)\n",
    "\n",
    "    if Euclidean:\n",
    "        # Compute the Euclidean distance between the features\n",
    "        distance = np.linalg.norm(feature1_normalized - feature2_normalized)\n",
    "    \n",
    "        # Calculate similarity score (lower distance implies higher similarity)\n",
    "        similarity_score = 1 / (1 + distance)\n",
    "\n",
    "    return similarity_score\n",
    "\n",
    "    \n"
   ]
  },
  {
   "cell_type": "code",
   "execution_count": 51,
   "id": "8eb34e09-cd27-4ca2-9f1c-2a08e87792fc",
   "metadata": {},
   "outputs": [
    {
     "data": {
      "text/plain": [
       "((2582,), (2585,))"
      ]
     },
     "execution_count": 51,
     "metadata": {},
     "output_type": "execute_result"
    }
   ],
   "source": [
    "tid1 = \"002\"\n",
    "tid2 = \"005\"\n",
    "res1 = compute_zero_crossing_rate_from_track_id(tid1)\n",
    "res2 = compute_zero_crossing_rate_from_track_id(tid2)\n",
    "res1.shape, res2.shape, \n",
    "# calculate_similarity(res1, res2)"
   ]
  },
  {
   "cell_type": "code",
   "execution_count": null,
   "id": "8af3218a-e444-4553-9055-e54e062c1df7",
   "metadata": {},
   "outputs": [],
   "source": []
  },
  {
   "cell_type": "code",
   "execution_count": 48,
   "id": "e8b60d4d-accd-4f9b-a81d-ddbbec4cc125",
   "metadata": {},
   "outputs": [
    {
     "data": {
      "text/plain": [
       "'0.10.0.post2'"
      ]
     },
     "execution_count": 48,
     "metadata": {},
     "output_type": "execute_result"
    }
   ],
   "source": [
    "librosa.__version__"
   ]
  },
  {
   "cell_type": "code",
   "execution_count": 49,
   "id": "11ffb6ab-73cc-48ac-b1fd-818abb204aa8",
   "metadata": {},
   "outputs": [
    {
     "name": "stdout",
     "output_type": "stream",
     "text": [
      "3.11.4 (main, Jul  5 2023, 08:41:25) [Clang 14.0.6 ]\n"
     ]
    }
   ],
   "source": [
    "import sys\n",
    "print(sys.version)"
   ]
  },
  {
   "cell_type": "code",
   "execution_count": 50,
   "id": "66542897-eccd-4aca-84c0-099c03004111",
   "metadata": {},
   "outputs": [
    {
     "name": "stdout",
     "output_type": "stream",
     "text": [
      "Python 3.10.10\n"
     ]
    }
   ],
   "source": [
    "librosa.__version__\n",
    "!python --version"
   ]
  },
  {
   "cell_type": "code",
   "execution_count": null,
   "id": "e5781add-1261-469f-9cf0-8143e77a70b3",
   "metadata": {},
   "outputs": [],
   "source": []
  },
  {
   "cell_type": "code",
   "execution_count": null,
   "id": "afd35b99-5d04-493a-8dd3-ec31db507483",
   "metadata": {},
   "outputs": [],
   "source": []
  },
  {
   "cell_type": "code",
   "execution_count": 54,
   "id": "a34d764a-373a-4edc-ba56-a40428fd2481",
   "metadata": {},
   "outputs": [],
   "source": [
    "import numpy as np\n",
    "import librosa\n",
    "from librosa.feature import delta\n",
    "\n",
    "def normalize_feature(feature: np.ndarray) -> np.ndarray:\n",
    "    \"\"\"\n",
    "    Normalize the feature to have zero mean and unit variance.\n",
    "\n",
    "    Parameters:\n",
    "        feature (numpy array): Input feature.\n",
    "\n",
    "    Returns:\n",
    "        normalized_feature (numpy array): Normalized feature.\n",
    "    \"\"\"\n",
    "    return (feature - np.mean(feature)) / np.std(feature)\n",
    "\n",
    "def compute_similarity_with_dtw(feature1: np.ndarray, feature2: np.ndarray) -> float:\n",
    "    \"\"\"\n",
    "    Compute similarity between two audio features using dynamic time warping.\n",
    "\n",
    "    Parameters:\n",
    "        feature1 (numpy array): First input feature.\n",
    "        feature2 (numpy array): Second input feature.\n",
    "\n",
    "    Returns:\n",
    "        similarity (float): Similarity score between the two features.\n",
    "    \"\"\"\n",
    "    # Normalize the features\n",
    "    feature1_norm = normalize_feature(feature1)\n",
    "    feature2_norm = normalize_feature(feature2)\n",
    "\n",
    "    # Compute delta features to capture temporal changes\n",
    "    feature1_delta = delta(feature1_norm)\n",
    "    feature2_delta = delta(feature2_norm)\n",
    "\n",
    "    # Compute the DTW distance\n",
    "    dtw_distance, _ = librosa.sequence.dtw(X=feature1_delta, Y=feature2_delta)\n",
    "\n",
    "    # Invert the distance to get similarity\n",
    "    similarity = 1.0 / (1.0 + dtw_distance)\n",
    "\n",
    "    return similarity\n"
   ]
  },
  {
   "cell_type": "code",
   "execution_count": 57,
   "id": "335cb12b-1dfa-4bad-87f3-becafcedbea7",
   "metadata": {},
   "outputs": [
    {
     "data": {
      "text/plain": [
       "((2582,), (2585,))"
      ]
     },
     "execution_count": 57,
     "metadata": {},
     "output_type": "execute_result"
    }
   ],
   "source": [
    "tid1 = \"002\"\n",
    "tid2 = \"005\"\n",
    "res1 = compute_zero_crossing_rate_from_track_id(tid1)\n",
    "res2 = compute_zero_crossing_rate_from_track_id(tid2)\n",
    "res1.shape, res2.shape, \n",
    "# calculate_similarity(res1, res2)"
   ]
  },
  {
   "cell_type": "code",
   "execution_count": null,
   "id": "e569a8e5-bcd2-4b57-8695-ee8805517423",
   "metadata": {},
   "outputs": [],
   "source": [
    "feature1_delta = delta(feature1_norm)\n",
    "feature2_delta = delta(feature2_norm)"
   ]
  },
  {
   "cell_type": "code",
   "execution_count": null,
   "id": "74d32d7d-aa7c-4459-a962-a686a63d36b5",
   "metadata": {},
   "outputs": [],
   "source": []
  },
  {
   "cell_type": "code",
   "execution_count": null,
   "id": "5f01396d-f50f-444b-abfb-5f593af7b91a",
   "metadata": {},
   "outputs": [],
   "source": []
  },
  {
   "cell_type": "code",
   "execution_count": null,
   "id": "0bbfeff0-e79a-49c0-825e-ea1a7cc7e0b3",
   "metadata": {},
   "outputs": [],
   "source": []
  },
  {
   "cell_type": "code",
   "execution_count": null,
   "id": "5b8de29e-ca3a-41fb-a624-cc2b0b8afde8",
   "metadata": {},
   "outputs": [],
   "source": []
  },
  {
   "cell_type": "code",
   "execution_count": null,
   "id": "8d22ba38-9a9f-489d-b956-89d6ec0b0bff",
   "metadata": {},
   "outputs": [],
   "source": []
  },
  {
   "cell_type": "code",
   "execution_count": null,
   "id": "61a04a41-850a-4e86-8dff-d6d259d6b4e8",
   "metadata": {},
   "outputs": [],
   "source": []
  },
  {
   "cell_type": "code",
   "execution_count": 56,
   "id": "20d1ccd3-3fa2-4834-8d89-a719f59a6ed2",
   "metadata": {},
   "outputs": [
    {
     "data": {
      "text/plain": [
       "array([[0.66493028, 0.49804911, 0.39812861, ..., 0.00070293, 0.00070268,\n",
       "        0.00070243],\n",
       "       [0.49804911, 0.49804911, 0.39812861, ..., 0.00070293, 0.00070268,\n",
       "        0.00070243],\n",
       "       [0.39812861, 0.39812861, 0.39812861, ..., 0.00070293, 0.00070268,\n",
       "        0.00070243],\n",
       "       ...,\n",
       "       [0.0029391 , 0.0029391 , 0.0029391 , ..., 0.00596088, 0.00595776,\n",
       "        0.00595464],\n",
       "       [0.00293743, 0.00293743, 0.00293743, ..., 0.00595736, 0.00595424,\n",
       "        0.00595113],\n",
       "       [0.00293576, 0.00293576, 0.00293576, ..., 0.00595384, 0.00595073,\n",
       "        0.00594761]])"
      ]
     },
     "execution_count": 56,
     "metadata": {},
     "output_type": "execute_result"
    }
   ],
   "source": [
    "compute_similarity_with_dtw(res1, res2)"
   ]
  },
  {
   "cell_type": "code",
   "execution_count": null,
   "id": "b5d5ab5c-73ed-4cfa-ace1-6a36683beab0",
   "metadata": {},
   "outputs": [],
   "source": []
  },
  {
   "cell_type": "code",
   "execution_count": null,
   "id": "ef133d67-5835-4819-a395-ea5b32e5381a",
   "metadata": {},
   "outputs": [],
   "source": []
  },
  {
   "cell_type": "code",
   "execution_count": null,
   "id": "d5b174eb-9fe5-4c48-9c63-2d04dbd7f8b7",
   "metadata": {},
   "outputs": [],
   "source": []
  },
  {
   "cell_type": "code",
   "execution_count": null,
   "id": "6bddfb45-a9e9-4a0f-a58b-56e2738398f6",
   "metadata": {},
   "outputs": [],
   "source": []
  },
  {
   "cell_type": "code",
   "execution_count": null,
   "id": "a425ef4d-7e85-4014-8dde-1cbf386bc9d8",
   "metadata": {},
   "outputs": [],
   "source": []
  },
  {
   "cell_type": "code",
   "execution_count": null,
   "id": "002b2f0d-54dc-4f8d-8dfe-00739f410eb0",
   "metadata": {},
   "outputs": [],
   "source": []
  },
  {
   "cell_type": "code",
   "execution_count": null,
   "id": "bd18262c-9388-4454-9ae8-b4e2d38401f4",
   "metadata": {},
   "outputs": [],
   "source": []
  },
  {
   "cell_type": "code",
   "execution_count": null,
   "id": "2f567528-69df-4386-9885-5abdd10886b0",
   "metadata": {},
   "outputs": [],
   "source": []
  },
  {
   "cell_type": "code",
   "execution_count": null,
   "id": "5f9ca028-45e7-4232-aeaf-af32f83c1d23",
   "metadata": {},
   "outputs": [],
   "source": []
  },
  {
   "cell_type": "code",
   "execution_count": null,
   "id": "b277c674-2275-477f-9b44-91f1414f034b",
   "metadata": {},
   "outputs": [],
   "source": []
  },
  {
   "cell_type": "code",
   "execution_count": null,
   "id": "93e73d51-42d9-49c7-9c65-5bc4942dcb8f",
   "metadata": {},
   "outputs": [],
   "source": []
  },
  {
   "cell_type": "code",
   "execution_count": null,
   "id": "07c4e543-8d4c-4cea-9295-b6c303a14c18",
   "metadata": {},
   "outputs": [],
   "source": []
  }
 ],
 "metadata": {
  "kernelspec": {
   "display_name": "My audio",
   "language": "python",
   "name": "audio"
  },
  "language_info": {
   "codemirror_mode": {
    "name": "ipython",
    "version": 3
   },
   "file_extension": ".py",
   "mimetype": "text/x-python",
   "name": "python",
   "nbconvert_exporter": "python",
   "pygments_lexer": "ipython3",
   "version": "3.11.4"
  }
 },
 "nbformat": 4,
 "nbformat_minor": 5
}
